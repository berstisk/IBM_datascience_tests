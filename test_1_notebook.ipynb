{
 "cells": [
  {
   "cell_type": "markdown",
   "id": "75c353fc",
   "metadata": {},
   "source": [
    "# My Jupyter Notebook on IBM Watson Studio"
   ]
  },
  {
   "cell_type": "markdown",
   "id": "51e7500b",
   "metadata": {},
   "source": [
    "**Karinne Berstis**\n",
    "\n",
    "Language Researcher"
   ]
  },
  {
   "cell_type": "markdown",
   "id": "129b06cb",
   "metadata": {},
   "source": [
    "*I'm interested in data science because I would like to apply my knowledge of statistics and language to learning more about the world. I'm interested in text analysis, natural language processing, and other methods of analyzing and producing speech and language. Additionally, in general, I like to play with data and use it to understand the world better, especially in checking results in published studies and articles to determine whether the conclusions drawn about them are valid.*"
   ]
  },
  {
   "cell_type": "markdown",
   "id": "ace95bea",
   "metadata": {},
   "source": [
    "### Band Name Generator\n",
    "\n",
    "The following cell outputs a randomly selected band name based on your name."
   ]
  },
  {
   "cell_type": "code",
   "execution_count": 4,
   "id": "85783fe2",
   "metadata": {},
   "outputs": [
    {
     "name": "stdout",
     "output_type": "stream",
     "text": [
      "Enter your first name:hugh\n",
      "Enter your last name:partridge\n",
      "Your band name is Jealous Pete\n"
     ]
    }
   ],
   "source": [
    "# import the random function\n",
    "import random\n",
    "\n",
    "# intialize lists of potential first and second words to form band names\n",
    "b_1 = [\"Jolly\", \"Legal\", \"Simple\", \"Craven\", \"Jealous\", \"Sleepy\", \"Smoky\", \"Velvet\", \"Middle\", \"Slick\", \"Moody\", \"Paper\", \"Thin\", \"Inner\", \"Weary\"]\n",
    "b_2 = [\"Minds\", \"Hearses\", \"Knives\", \"Pete\", \"Winds\", \"Ghost\", \"Rabbit\", \"Firehouse\", \"Thorn\", \"Boys\", \"Wranglers\", \"Reds\", \"Husk\", \"Birds\", \"Stones\"]\n",
    "\n",
    "# ask user to input their name\n",
    "user_firstname = input(\"Enter your first name:\")\n",
    "user_lastname = input(\"Enter your last name:\")\n",
    "\n",
    "# shuffle the lists of words to draw from\n",
    "random.shuffle(b_1)\n",
    "random.shuffle(b_2)\n",
    "\n",
    "# select a word from both lists\n",
    "# a random word is selected between the first and x entries in the list of words\n",
    "# where x is the length of your name\n",
    "band_1 = b_1[random.randint(0, len(user_firstname))]\n",
    "band_2 = b_2[random.randint(0, len(user_lastname))]\n",
    "\n",
    "# print the band name\n",
    "print(\"Your band name is \" + band_1 + \" \" + band_2)"
   ]
  },
  {
   "cell_type": "markdown",
   "id": "92ab218f",
   "metadata": {},
   "source": [
    "***\n",
    "\n",
    "| **bears** | **rodents** | **fish** |\n",
    "| :-: | :-: | :-: |\n",
    "| grizzly | mouse | eel |\n",
    "| sun | vole | striped jack |\n",
    "\n",
    "***\n",
    "\n",
    "1. feed sun bear\n",
    "2. clean eel tank\n",
    "3. ~brush vole teeth~\n"
   ]
  }
 ],
 "metadata": {
  "kernelspec": {
   "display_name": "Python 3 (ipykernel)",
   "language": "python",
   "name": "python3"
  },
  "language_info": {
   "codemirror_mode": {
    "name": "ipython",
    "version": 3
   },
   "file_extension": ".py",
   "mimetype": "text/x-python",
   "name": "python",
   "nbconvert_exporter": "python",
   "pygments_lexer": "ipython3",
   "version": "3.9.7"
  }
 },
 "nbformat": 4,
 "nbformat_minor": 5
}
